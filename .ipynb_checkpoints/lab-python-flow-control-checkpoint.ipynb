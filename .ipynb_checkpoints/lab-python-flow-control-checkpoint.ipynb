{
 "cells": [
  {
   "cell_type": "markdown",
   "id": "d3bfc191-8885-42ee-b0a0-bbab867c6f9f",
   "metadata": {
    "tags": []
   },
   "source": [
    "# Lab | Flow Control"
   ]
  },
  {
   "cell_type": "markdown",
   "id": "3851fcd1-cf98-4653-9c89-e003b7ec9400",
   "metadata": {},
   "source": [
    "## Exercise: Managing Customer Orders Optimized\n",
    "\n",
    "In the last lab, you were starting an online store that sells various products. To ensure smooth operations, you developed a program that manages customer orders and inventory.\n",
    "\n",
    "You did so without using flow control. Let's go a step further and improve this code.\n",
    "\n",
    "Follow the steps below to complete the exercise:\n",
    "\n",
    "1. Look at your code from the lab data structures, and improve repeated code with loops.\n",
    "\n",
    "2. Instead of asking the user to input the name of three products that a customer wants to order, do the following:\n",
    "    \n",
    "    a. Prompt the user to enter the name of a product that a customer wants to order.\n",
    "    \n",
    "    b. Add the product name to the \"customer_orders\" set.\n",
    "    \n",
    "    c. Ask the user if they want to add another product (yes/no).\n",
    "    \n",
    "    d. Continue the loop until the user does not want to add another product.\n",
    "\n",
    "3. Instead of updating the inventory by subtracting 1 from the quantity of each product, only do it for  the products that were ordered (those in \"customer_orders\")."
   ]
  },
  {
   "cell_type": "code",
   "execution_count": 1,
   "id": "16ea8d3c-55df-413d-b11c-04bf52dc5360",
   "metadata": {},
   "outputs": [
    {
     "name": "stdin",
     "output_type": "stream",
     "text": [
      "Please, write here the quantity available of t-shirts:  5\n",
      "Please, write here the quantity available of mugs:  6\n",
      "Please, write here the quantity available of hats:  7\n",
      "Please, write here the quantity available of books:  8\n",
      "Please, write here the quantity available of keychains:  9\n"
     ]
    }
   ],
   "source": [
    "products = [\"t-shirt\", \"mug\", \"hat\", \"book\", \"keychain\"]\n",
    "inventory = {}\n",
    "for product in products:\n",
    "    quantity = int(input(f\"Please, write here the quantity available of {product}s: \"))\n",
    "    inventory[product] = quantity"
   ]
  },
  {
   "cell_type": "code",
   "execution_count": 2,
   "id": "d1d642e1-4c50-452e-99c8-35465dd6e102",
   "metadata": {},
   "outputs": [
    {
     "name": "stdin",
     "output_type": "stream",
     "text": [
      "Enter the desired product 1: mug\n",
      "Enter the desired product 2: book\n",
      "Enter the desired product 3: hat\n"
     ]
    }
   ],
   "source": [
    "customer_orders = set()\n",
    "total = 0\n",
    "while total < 3:\n",
    "    desired_product = input(f\"Enter the desired product {total + 1}:\")\n",
    "    if desired_product in products:\n",
    "        customer_orders.add(desired_product)\n",
    "        total += 1\n",
    "    else:\n",
    "        print(\"This product is not available\")"
   ]
  },
  {
   "cell_type": "code",
   "execution_count": 3,
   "id": "400c0581-55e0-4448-a8f7-c301959492af",
   "metadata": {},
   "outputs": [
    {
     "name": "stdout",
     "output_type": "stream",
     "text": [
      "{'book', 'mug', 'hat'}\n"
     ]
    }
   ],
   "source": [
    "print(customer_orders)"
   ]
  },
  {
   "cell_type": "code",
   "execution_count": 4,
   "id": "15658fb9-aec2-45c1-9fb6-647f8b2d3518",
   "metadata": {},
   "outputs": [],
   "source": [
    "total_products_ordered = len(customer_orders)"
   ]
  },
  {
   "cell_type": "code",
   "execution_count": 5,
   "id": "913f8d7d-5c49-45cc-87fb-5daad555cb20",
   "metadata": {},
   "outputs": [],
   "source": [
    "percentage_ordered = (len(customer_orders) * 100) / (inventory['t-shirt'] + inventory['mug'] + inventory['hat'] + inventory['book'] + inventory['keychain'])"
   ]
  },
  {
   "cell_type": "code",
   "execution_count": 6,
   "id": "54858d21-c460-488f-8d80-e9c703a60aa6",
   "metadata": {},
   "outputs": [],
   "source": [
    "order_status = (total_products_ordered, percentage_ordered)"
   ]
  },
  {
   "cell_type": "code",
   "execution_count": 7,
   "id": "952f214d-8559-49c8-bc61-4bfb4ce153e4",
   "metadata": {},
   "outputs": [
    {
     "name": "stdout",
     "output_type": "stream",
     "text": [
      "3\n",
      "8.571428571428571 %\n"
     ]
    }
   ],
   "source": [
    "print(total_products_ordered)\n",
    "print(percentage_ordered, \"%\")"
   ]
  },
  {
   "cell_type": "code",
   "execution_count": 8,
   "id": "2b13a228-3b26-457b-99fb-8aa222008e94",
   "metadata": {},
   "outputs": [
    {
     "name": "stdout",
     "output_type": "stream",
     "text": [
      "t-shirt: 9\n",
      "mug: 9\n",
      "hat: 9\n",
      "book: 9\n",
      "keychain: 9\n"
     ]
    }
   ],
   "source": [
    "for product in inventory:\n",
    "    print(f\"{product}: {quantity}\")"
   ]
  },
  {
   "cell_type": "code",
   "execution_count": 11,
   "id": "b7b4fd62-79ee-4dfb-ae00-e780cdeef42c",
   "metadata": {},
   "outputs": [
    {
     "name": "stdin",
     "output_type": "stream",
     "text": [
      "Enter a desired product: t-shirt\n"
     ]
    },
    {
     "name": "stdout",
     "output_type": "stream",
     "text": [
      "Product added successfully\n"
     ]
    },
    {
     "name": "stdin",
     "output_type": "stream",
     "text": [
      "Do you want to add another product? (yes/no):  yes\n",
      "Enter a desired product: hat\n"
     ]
    },
    {
     "name": "stdout",
     "output_type": "stream",
     "text": [
      "Product added successfully\n"
     ]
    },
    {
     "name": "stdin",
     "output_type": "stream",
     "text": [
      "Do you want to add another product? (yes/no):  no\n"
     ]
    },
    {
     "name": "stdout",
     "output_type": "stream",
     "text": [
      "{'t-shirt', 'hat'}\n"
     ]
    }
   ],
   "source": [
    "customer_orders = set()\n",
    "continue_order = \"yes\"\n",
    "while continue_order == \"yes\":\n",
    "    desired_product = input(\"Enter a desired product:\")\n",
    "    customer_orders.add(desired_product)\n",
    "    print(\"Product added successfully\")\n",
    "    continue_order = input(\"Do you want to add another product? (yes/no): \")\n",
    "print(customer_orders)"
   ]
  },
  {
   "cell_type": "code",
   "execution_count": 12,
   "id": "c7bdbabc-531c-4ea9-a56e-52e0f0e3dfff",
   "metadata": {},
   "outputs": [],
   "source": [
    "for product in customer_orders:\n",
    "    if product in inventory:\n",
    "        inventory[product] -= 1"
   ]
  },
  {
   "cell_type": "code",
   "execution_count": 13,
   "id": "c49a2d7e-3c5a-4525-825d-947d88ca8cce",
   "metadata": {},
   "outputs": [
    {
     "data": {
      "text/plain": [
       "{'t-shirt': 4, 'mug': 6, 'hat': 6, 'book': 8, 'keychain': 9}"
      ]
     },
     "execution_count": 13,
     "metadata": {},
     "output_type": "execute_result"
    }
   ],
   "source": [
    "inventory"
   ]
  },
  {
   "cell_type": "code",
   "execution_count": null,
   "id": "c15bd5fc-f19a-4c59-9404-40cce074fe24",
   "metadata": {},
   "outputs": [],
   "source": []
  }
 ],
 "metadata": {
  "kernelspec": {
   "display_name": "Python 3 (ipykernel)",
   "language": "python",
   "name": "python3"
  },
  "language_info": {
   "codemirror_mode": {
    "name": "ipython",
    "version": 3
   },
   "file_extension": ".py",
   "mimetype": "text/x-python",
   "name": "python",
   "nbconvert_exporter": "python",
   "pygments_lexer": "ipython3",
   "version": "3.12.7"
  }
 },
 "nbformat": 4,
 "nbformat_minor": 5
}
